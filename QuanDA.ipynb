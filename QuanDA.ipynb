{
 "cells": [
  {
   "cell_type": "code",
   "execution_count": 2,
   "id": "c3b57093",
   "metadata": {},
   "outputs": [],
   "source": [
    "import numpy as np\n",
    "from collections import namedtuple\n",
    "\n",
    "from pathlib import Path"
   ]
  },
  {
   "cell_type": "code",
   "execution_count": 51,
   "id": "d813d212",
   "metadata": {},
   "outputs": [],
   "source": [
    "Spec = namedtuple(\"Spec\", [\"mz\", \"int_\"])\n",
    "\n",
    "def range_sel_max(mz, int_, sels):\n",
    "    def max_sel(_mz, _int_, _min, _max):\n",
    "        v = _int_[(_mz > _min) & (mz < _max)]\n",
    "        if v.size == 0:\n",
    "            return 0\n",
    "        else:\n",
    "            return v.max()\n",
    "    return np.asarray([max_sel(mz, int_, min, max) for (min, max) in sels])\n",
    "\n",
    "class Regressor:\n",
    "    def __init__(self, chem1:tuple[np.ndarray, np.ndarray], chem2:tuple[np.ndarray, np.ndarray], sel:list[tuple[float, float]]) -> None:\n",
    "        from copy import deepcopy\n",
    "        self.sel = deepcopy(sel)\n",
    "        self.before = range_sel_max(chem1[0], chem1[1], self.sel)\n",
    "        self.after = range_sel_max(chem2[0], chem2[1], self.sel)\n",
    "        self.before /= self.before.max()\n",
    "        self.after /= self.after.max()\n",
    "\n",
    "        self.coef = np.column_stack((self.before, self.after))\n",
    "\n",
    "    def peak_sel(self, data:list[Spec]):\n",
    "        peaks = []\n",
    "        for spec in data:\n",
    "            _peak_int = range_sel_max(spec.mz, spec.int_, self.sel)\n",
    "            peaks.append(_peak_int)\n",
    "        return np.stack(peaks, 0)\n",
    "\n",
    "    def calc(self, B, n_jobs=None):\n",
    "        from scipy.optimize import nnls\n",
    "        import joblib\n",
    "        @joblib.delayed\n",
    "        def _nnls(A, b):\n",
    "            return nnls(A, b)[0]\n",
    "        results = joblib.Parallel(n_jobs=n_jobs)(\n",
    "        [_nnls(self.coef, B[i, :]) for i in range(B.shape[1])])\n",
    "        results = np.stack(results, 0)\n",
    "        results /= results.sum(1, keepdims=True)\n",
    "        return results        "
   ]
  },
  {
   "cell_type": "code",
   "execution_count": 52,
   "id": "76096286",
   "metadata": {},
   "outputs": [],
   "source": [
    "def read_data(fpath):\n",
    "    return np.loadtxt(fpath, unpack=True, dtype=float, skiprows=2)"
   ]
  },
  {
   "cell_type": "code",
   "execution_count": 53,
   "id": "a399507e",
   "metadata": {},
   "outputs": [],
   "source": [
    "range_sel = [(2007.4 + i, 2008.4 + i) for i in range(7)]\n",
    "D_x, D_y = np.loadtxt(r\"data\\D.txt\", unpack=True, dtype=float)\n",
    "N_x, N_y = np.loadtxt(r\"data\\N.txt\", unpack=True, dtype=float)\n",
    "regressor = Regressor((D_x, D_y), (N_x, N_y), range_sel)"
   ]
  },
  {
   "cell_type": "code",
   "execution_count": 54,
   "id": "763b2c40",
   "metadata": {},
   "outputs": [],
   "source": [
    "N1D9 = []\n",
    "for f in Path(r\"data\\Asn2Asp18\").iterdir():\n",
    "    x, y = read_data(f)\n",
    "    N1D9.append(Spec(x, y))\n",
    "N9D1 = []\n",
    "for f in Path(r\"data\\Asn18Asp2\").iterdir():\n",
    "    x, y = read_data(f)\n",
    "    N9D1.append(Spec(x, y))"
   ]
  },
  {
   "cell_type": "code",
   "execution_count": 55,
   "id": "5e63ddf1",
   "metadata": {},
   "outputs": [],
   "source": [
    "N1D9 = regressor.peak_sel(N1D9)\n",
    "N9D1 = regressor.peak_sel(N9D1)"
   ]
  },
  {
   "cell_type": "code",
   "execution_count": 62,
   "id": "55d5c21c",
   "metadata": {},
   "outputs": [
    {
     "name": "stdout",
     "output_type": "stream",
     "text": [
      "N1D9\n",
      "D%: 85.881271% \t N%: 14.118729%\n",
      "N9D1\n",
      "D%: 2.894096% \t N%: 97.105904%\n"
     ]
    }
   ],
   "source": [
    "print(\"N1D9\")\n",
    "print(\"D%: {obj[0]:%} \\t N%: {obj[1]:%}\".format(obj=regressor.calc(N1D9).mean(0)))\n",
    "print(\"N9D1\")\n",
    "print(\"D%: {obj[0]:%} \\t N%: {obj[1]:%}\".format(obj=regressor.calc(N9D1).mean(0)))"
   ]
  }
 ],
 "metadata": {
  "kernelspec": {
   "display_name": "Python 3 (ipykernel)",
   "language": "python",
   "name": "python3"
  },
  "language_info": {
   "codemirror_mode": {
    "name": "ipython",
    "version": 3
   },
   "file_extension": ".py",
   "mimetype": "text/x-python",
   "name": "python",
   "nbconvert_exporter": "python",
   "pygments_lexer": "ipython3",
   "version": "3.12.2"
  }
 },
 "nbformat": 4,
 "nbformat_minor": 5
}
