{
 "cells": [
  {
   "cell_type": "code",
   "execution_count": 1,
   "id": "c3b57093",
   "metadata": {},
   "outputs": [],
   "source": [
    "import numpy as np\n",
    "from collections import namedtuple\n",
    "\n",
    "from pathlib import Path"
   ]
  },
  {
   "cell_type": "code",
   "execution_count": 2,
   "id": "d813d212",
   "metadata": {},
   "outputs": [],
   "source": [
    "Spec = namedtuple(\"Spec\", [\"mz\", \"int_\"]) # Used for represent a spectra for convenience\n",
    "\n",
    "def range_sel_max(mz:np.ndarray, int_:np.ndarray, sels:list[tuple[float, float]]):\n",
    "    \"\"\"Use for selecting the highest intensity value among a range of m/z\n",
    "\n",
    "    Parameters\n",
    "    ----------\n",
    "    mz : np.ndarray\n",
    "        m/z\n",
    "    int_ : np.ndarray\n",
    "        the corresponding intensity\n",
    "    sels : list[tuple[float, float]]\n",
    "        a list of selecting range. Each range is represented by a tuple of (min_mz, max_mz)\n",
    "    \"\"\"\n",
    "    def max_sel(_mz, _int_, _min, _max):\n",
    "        v = _int_[(_mz > _min) & (mz < _max)]\n",
    "        if v.size == 0:\n",
    "            return 0\n",
    "        else:\n",
    "            return v.max()\n",
    "    return np.asarray([max_sel(mz, int_, min, max) for (min, max) in sels])\n",
    "\n",
    "class QuanDA:\n",
    "    def __init__(self, chem1:tuple[np.ndarray, np.ndarray], chem2:tuple[np.ndarray, np.ndarray], sel:list[tuple[float, float]]) -> None:\n",
    "        \"\"\"The QuanDA algorithm\n",
    "\n",
    "        Parameters\n",
    "        ----------\n",
    "        chem1 : tuple[np.ndarray, np.ndarray]\n",
    "            The spectra of one pure chemical (e.g. the Pure Pep-D) (m/z, intense)\n",
    "        chem2 : tuple[np.ndarray, np.ndarray]\n",
    "            The spectra of another pure chemical (e.g. the Pure Pep-N) (m/z, intense)\n",
    "        sel : list[tuple[float, float]]\n",
    "            The ranges of selected m/z regions. They will be used for extracting the highest intensity in each interval.\n",
    "            Each interval is represented by a tuple of (min_mz, max_mz)\n",
    "        \"\"\"\n",
    "        from copy import deepcopy\n",
    "        self.sel = deepcopy(sel)\n",
    "        self.before = range_sel_max(chem1[0], chem1[1], self.sel)\n",
    "        self.after = range_sel_max(chem2[0], chem2[1], self.sel)\n",
    "        self.before /= self.before.max()\n",
    "        self.after /= self.after.max()\n",
    "\n",
    "        self.coef = np.column_stack((self.before, self.after))\n",
    "\n",
    "    def peak_sel(self, data:list[Spec]):\n",
    "        \"\"\"extract the isotopic peaks from the spectra.\n",
    "\n",
    "        Parameters\n",
    "        ----------\n",
    "        data : list[Spec]\n",
    "            list of spectra\n",
    "\n",
    "        Returns\n",
    "        -------\n",
    "        np.ndarray\n",
    "            The extracted intensity array\n",
    "        \"\"\"\n",
    "        peaks = []\n",
    "        for spec in data:\n",
    "            _peak_int = range_sel_max(spec.mz, spec.int_, self.sel)\n",
    "            peaks.append(_peak_int)\n",
    "        return np.stack(peaks, 0)\n",
    "\n",
    "    def calc(self, B, n_jobs=None):\n",
    "        \"\"\"Compute the percentage of `chem1` and `chem2` (refering to the parameters in `__init__`)\n",
    "\n",
    "        Parameters\n",
    "        ----------\n",
    "        B : np.ndarray\n",
    "            The matrix composed of the extracted isotopic peaks from samples.\n",
    "        n_jobs : int, optional\n",
    "            number of parallel computing workers, by default None\n",
    "\n",
    "        Returns\n",
    "        -------\n",
    "        np.ndarray\n",
    "            The estimated percentage of two chemicals.\n",
    "        \"\"\"\n",
    "        from scipy.optimize import nnls\n",
    "        import joblib\n",
    "        @joblib.delayed\n",
    "        def _nnls(A, b):\n",
    "            return nnls(A, b)[0]\n",
    "        results = joblib.Parallel(n_jobs=n_jobs)(\n",
    "        [_nnls(self.coef, B[i, :]) for i in range(B.shape[0])])\n",
    "        results = np.stack(results, 0)\n",
    "        results /= results.sum(1, keepdims=True)\n",
    "        return results        "
   ]
  },
  {
   "cell_type": "code",
   "execution_count": 3,
   "id": "76096286",
   "metadata": {},
   "outputs": [],
   "source": [
    "def read_data(fpath):\n",
    "    \"\"\"Utilty function for loading data\"\"\"\n",
    "    return np.loadtxt(fpath, unpack=True, dtype=float, skiprows=2)"
   ]
  },
  {
   "cell_type": "code",
   "execution_count": 4,
   "id": "a399507e",
   "metadata": {},
   "outputs": [],
   "source": [
    "range_sel = [(2007.4 + i, 2008.4 + i) for i in range(7)] # The interval that the istopic peaks would be\n",
    "D_x, D_y = np.loadtxt(r\"data\\D.txt\", unpack=True, dtype=float) # load the raw spectra, x is m/z, y is intensity\n",
    "N_x, N_y = np.loadtxt(r\"data\\N.txt\", unpack=True, dtype=float)\n",
    "regressor = QuanDA((D_x, D_y), (N_x, N_y), range_sel) # construct the QuanDA class"
   ]
  },
  {
   "cell_type": "code",
   "execution_count": 5,
   "id": "763b2c40",
   "metadata": {},
   "outputs": [],
   "source": [
    "# Load data\n",
    "N1D9 = []\n",
    "for f in Path(r\"data\\Asn2Asp18\").iterdir():\n",
    "    x, y = read_data(f)\n",
    "    N1D9.append(Spec(x, y))\n",
    "N9D1 = []\n",
    "for f in Path(r\"data\\Asn18Asp2\").iterdir():\n",
    "    x, y = read_data(f)\n",
    "    N9D1.append(Spec(x, y))"
   ]
  },
  {
   "cell_type": "code",
   "execution_count": 6,
   "id": "5e63ddf1",
   "metadata": {},
   "outputs": [],
   "source": [
    "# extrac the isotopic peaks from spectra and form them to matrix\n",
    "N1D9 = regressor.peak_sel(N1D9)\n",
    "N9D1 = regressor.peak_sel(N9D1)"
   ]
  },
  {
   "cell_type": "code",
   "execution_count": 7,
   "id": "55d5c21c",
   "metadata": {},
   "outputs": [
    {
     "name": "stdout",
     "output_type": "stream",
     "text": [
      "N1D9\n",
      "D%: 86.284993% \t N%: 13.715007%\n",
      "N9D1\n",
      "D%: 4.136729% \t N%: 95.863271%\n"
     ]
    }
   ],
   "source": [
    "# calculate and print results\n",
    "print(\"N1D9\")\n",
    "print(\"D%: {obj[0]:%} \\t N%: {obj[1]:%}\".format(obj=regressor.calc(N1D9).mean(0)))\n",
    "print(\"N9D1\")\n",
    "print(\"D%: {obj[0]:%} \\t N%: {obj[1]:%}\".format(obj=regressor.calc(N9D1).mean(0)))"
   ]
  },
  {
   "cell_type": "code",
   "execution_count": null,
   "id": "2f1b3308",
   "metadata": {},
   "outputs": [],
   "source": []
  }
 ],
 "metadata": {
  "kernelspec": {
   "display_name": "sci",
   "language": "python",
   "name": "python3"
  },
  "language_info": {
   "codemirror_mode": {
    "name": "ipython",
    "version": 3
   },
   "file_extension": ".py",
   "mimetype": "text/x-python",
   "name": "python",
   "nbconvert_exporter": "python",
   "pygments_lexer": "ipython3",
   "version": "3.12.6"
  }
 },
 "nbformat": 4,
 "nbformat_minor": 5
}
